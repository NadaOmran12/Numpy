{
 "cells": [
  {
   "cell_type": "code",
   "execution_count": 1,
   "id": "a09f5f66",
   "metadata": {},
   "outputs": [],
   "source": [
    "import numpy as np "
   ]
  },
  {
   "cell_type": "code",
   "execution_count": 9,
   "id": "014105b0",
   "metadata": {},
   "outputs": [
    {
     "name": "stdout",
     "output_type": "stream",
     "text": [
      "enter positive number 4\n",
      "[[0.57065222]\n",
      " [0.63491496]\n",
      " [0.87807461]\n",
      " [0.86612264]]\n",
      "None\n"
     ]
    }
   ],
   "source": [
    "def randomization(n):\n",
    "    if n > 0 and isinstance(n,int):\n",
    "         A = np.random.rand(n,1)\n",
    "    print(A)\n",
    "i = int(input(\"enter positive number \"))\n",
    "print(randomization(i))"
   ]
  },
  {
   "cell_type": "code",
   "execution_count": 10,
   "id": "d8f5fd75",
   "metadata": {},
   "outputs": [
    {
     "name": "stdout",
     "output_type": "stream",
     "text": [
      "enter first positive number 2\n",
      "enter second positive number 2\n",
      "A :  [[0.92697019 0.22725869]\n",
      " [0.70629089 0.3421414 ]]\n",
      "\n",
      "B :  [[0.00566543 0.51669546]\n",
      " [0.05643661 0.05709736]]\n",
      "\n",
      "S :  [[0.93263562 0.74395415]\n",
      " [0.7627275  0.39923876]]\n"
     ]
    }
   ],
   "source": [
    "def operations(h,w):\n",
    "    if w > 0 and h > 0 and isinstance(w,int) and isinstance(h,int):\n",
    "        A = np.random.rand(h,w)\n",
    "        B = np.random.rand(h,w)\n",
    "        S = A+B\n",
    "        return A,B,S\n",
    "i = int(input(\"enter first positive number \"))\n",
    "j = int(input(\"enter second positive number \"))\n",
    "A,B,S = operations(i,j)\n",
    "print (\"A : \" , A)\n",
    "print (\"\\nB : \" , B)\n",
    "print (\"\\nS : \" , S)"
   ]
  },
  {
   "cell_type": "code",
   "execution_count": 11,
   "id": "cb290c90",
   "metadata": {},
   "outputs": [
    {
     "name": "stdout",
     "output_type": "stream",
     "text": [
      "[[0.93263562 0.74395415]\n",
      " [0.7627275  0.39923876]]\n",
      "\n",
      "\n",
      "1.46964828316877\n"
     ]
    }
   ],
   "source": [
    "def norm(A,B):\n",
    "    S = np.linalg.norm(A + B)\n",
    "    return S\n",
    "A = np.random.rand()\n",
    "B = np.random.rand()\n",
    "print (S)\n",
    "print(\"\\n\")\n",
    "print(norm(A,B))"
   ]
  },
  {
   "cell_type": "code",
   "execution_count": 12,
   "id": "b74b3209",
   "metadata": {},
   "outputs": [],
   "source": [
    "def neural_network(x,w):\n",
    "    i = np.transpose(w)\n",
    "    z = np.dot(x,i)\n",
    "    return z\n"
   ]
  },
  {
   "cell_type": "code",
   "execution_count": 13,
   "id": "31f67ed4",
   "metadata": {},
   "outputs": [],
   "source": [
    "def scalar_function(x,y):\n",
    "    if x <= y:\n",
    "        return (np.dot(x,y))\n",
    "    else:\n",
    "        return (x/y)"
   ]
  },
  {
   "cell_type": "code",
   "execution_count": 14,
   "id": "a8858f36",
   "metadata": {},
   "outputs": [],
   "source": [
    "def vector_function(x,y):\n",
    "    vector_function = np.vectorize(scalar_function)\n",
    "    return vector_function(x,y)"
   ]
  },
  {
   "cell_type": "code",
   "execution_count": null,
   "id": "5b463a9b",
   "metadata": {},
   "outputs": [],
   "source": []
  }
 ],
 "metadata": {
  "kernelspec": {
   "display_name": "Python 3",
   "language": "python",
   "name": "python3"
  },
  "language_info": {
   "codemirror_mode": {
    "name": "ipython",
    "version": 3
   },
   "file_extension": ".py",
   "mimetype": "text/x-python",
   "name": "python",
   "nbconvert_exporter": "python",
   "pygments_lexer": "ipython3",
   "version": "3.8.8"
  }
 },
 "nbformat": 4,
 "nbformat_minor": 5
}
